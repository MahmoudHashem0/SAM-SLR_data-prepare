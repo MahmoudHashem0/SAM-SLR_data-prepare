{
 "cells": [
  {
   "cell_type": "code",
   "execution_count": 1,
   "id": "54170d17",
   "metadata": {
    "_cell_guid": "b1076dfc-b9ad-4769-8c92-a6c4dae69d19",
    "_uuid": "8f2839f25d086af736a60e9eeb907d3b93b6e0e5",
    "execution": {
     "iopub.execute_input": "2022-09-12T01:59:35.563972Z",
     "iopub.status.busy": "2022-09-12T01:59:35.563206Z",
     "iopub.status.idle": "2022-09-12T01:59:38.528801Z",
     "shell.execute_reply": "2022-09-12T01:59:38.527672Z"
    },
    "papermill": {
     "duration": 2.975401,
     "end_time": "2022-09-12T01:59:38.531746",
     "exception": false,
     "start_time": "2022-09-12T01:59:35.556345",
     "status": "completed"
    },
    "tags": []
   },
   "outputs": [
    {
     "name": "stdout",
     "output_type": "stream",
     "text": [
      "Cloning into 'SAM-SLR_data-prepare'...\r\n",
      "remote: Enumerating objects: 338, done.\u001b[K\r\n",
      "remote: Counting objects: 100% (338/338), done.\u001b[K\r\n",
      "remote: Compressing objects: 100% (295/295), done.\u001b[K\r\n",
      "remote: Total 338 (delta 38), reused 337 (delta 37), pack-reused 0\u001b[K\r\n",
      "Receiving objects: 100% (338/338), 11.63 MiB | 15.78 MiB/s, done.\r\n",
      "Resolving deltas: 100% (38/38), done.\r\n"
     ]
    }
   ],
   "source": [
    "!git clone \"https://github.com/MahmoudHashem0/SAM-SLR_data-prepare.git\""
   ]
  },
  {
   "cell_type": "code",
   "execution_count": 2,
   "id": "6a61deef",
   "metadata": {
    "execution": {
     "iopub.execute_input": "2022-09-12T01:59:38.541856Z",
     "iopub.status.busy": "2022-09-12T01:59:38.541417Z",
     "iopub.status.idle": "2022-09-12T01:59:38.550011Z",
     "shell.execute_reply": "2022-09-12T01:59:38.548621Z"
    },
    "papermill": {
     "duration": 0.016407,
     "end_time": "2022-09-12T01:59:38.552383",
     "exception": false,
     "start_time": "2022-09-12T01:59:38.535976",
     "status": "completed"
    },
    "tags": []
   },
   "outputs": [
    {
     "name": "stdout",
     "output_type": "stream",
     "text": [
      "/kaggle/working/SAM-SLR_data-prepare\n"
     ]
    }
   ],
   "source": [
    "cd \"SAM-SLR_data-prepare\""
   ]
  },
  {
   "cell_type": "code",
   "execution_count": 3,
   "id": "f77f8cec",
   "metadata": {
    "execution": {
     "iopub.execute_input": "2022-09-12T01:59:38.562014Z",
     "iopub.status.busy": "2022-09-12T01:59:38.561591Z",
     "iopub.status.idle": "2022-09-12T01:59:38.567141Z",
     "shell.execute_reply": "2022-09-12T01:59:38.566293Z"
    },
    "papermill": {
     "duration": 0.012759,
     "end_time": "2022-09-12T01:59:38.569258",
     "exception": false,
     "start_time": "2022-09-12T01:59:38.556499",
     "status": "completed"
    },
    "tags": []
   },
   "outputs": [],
   "source": [
    "with open(\"text.txt\",'w') as f:\n",
    "    f.write(\"this is a text you can read\")"
   ]
  },
  {
   "cell_type": "code",
   "execution_count": 4,
   "id": "40fe8212",
   "metadata": {
    "execution": {
     "iopub.execute_input": "2022-09-12T01:59:38.578994Z",
     "iopub.status.busy": "2022-09-12T01:59:38.578574Z",
     "iopub.status.idle": "2022-09-12T01:59:39.703259Z",
     "shell.execute_reply": "2022-09-12T01:59:39.701811Z"
    },
    "papermill": {
     "duration": 1.132724,
     "end_time": "2022-09-12T01:59:39.706006",
     "exception": false,
     "start_time": "2022-09-12T01:59:38.573282",
     "status": "completed"
    },
    "tags": []
   },
   "outputs": [
    {
     "name": "stdout",
     "output_type": "stream",
     "text": [
      "Depth2HHA  feature\tgen_frames.py  optical_flow_guidelines.docx  wholepose\r\n",
      "README.MD  gen_flow.py\tgen_hha.py     text.txt\r\n"
     ]
    }
   ],
   "source": [
    "!ls"
   ]
  },
  {
   "cell_type": "code",
   "execution_count": 5,
   "id": "116b2de8",
   "metadata": {
    "execution": {
     "iopub.execute_input": "2022-09-12T01:59:39.716154Z",
     "iopub.status.busy": "2022-09-12T01:59:39.715745Z",
     "iopub.status.idle": "2022-09-12T01:59:41.161541Z",
     "shell.execute_reply": "2022-09-12T01:59:41.160304Z"
    },
    "papermill": {
     "duration": 1.453975,
     "end_time": "2022-09-12T01:59:41.163991",
     "exception": false,
     "start_time": "2022-09-12T01:59:39.710016",
     "status": "completed"
    },
    "tags": []
   },
   "outputs": [],
   "source": [
    "!git add ."
   ]
  },
  {
   "cell_type": "code",
   "execution_count": 6,
   "id": "08a624fe",
   "metadata": {
    "execution": {
     "iopub.execute_input": "2022-09-12T01:59:41.174481Z",
     "iopub.status.busy": "2022-09-12T01:59:41.174038Z",
     "iopub.status.idle": "2022-09-12T01:59:42.304189Z",
     "shell.execute_reply": "2022-09-12T01:59:42.302892Z"
    },
    "papermill": {
     "duration": 1.138781,
     "end_time": "2022-09-12T01:59:42.306862",
     "exception": false,
     "start_time": "2022-09-12T01:59:41.168081",
     "status": "completed"
    },
    "tags": []
   },
   "outputs": [],
   "source": [
    "!git config user.email \"mahmoud.hashem34@outlook.com\""
   ]
  },
  {
   "cell_type": "code",
   "execution_count": 7,
   "id": "81dbcf98",
   "metadata": {
    "execution": {
     "iopub.execute_input": "2022-09-12T01:59:42.317245Z",
     "iopub.status.busy": "2022-09-12T01:59:42.316814Z",
     "iopub.status.idle": "2022-09-12T01:59:43.437022Z",
     "shell.execute_reply": "2022-09-12T01:59:43.435378Z"
    },
    "papermill": {
     "duration": 1.129009,
     "end_time": "2022-09-12T01:59:43.439902",
     "exception": false,
     "start_time": "2022-09-12T01:59:42.310893",
     "status": "completed"
    },
    "tags": []
   },
   "outputs": [],
   "source": [
    "!git config user.name \"MahmoudHashem0\""
   ]
  },
  {
   "cell_type": "code",
   "execution_count": 8,
   "id": "46ea38b9",
   "metadata": {
    "execution": {
     "iopub.execute_input": "2022-09-12T01:59:43.450303Z",
     "iopub.status.busy": "2022-09-12T01:59:43.449897Z",
     "iopub.status.idle": "2022-09-12T01:59:44.581359Z",
     "shell.execute_reply": "2022-09-12T01:59:44.580201Z"
    },
    "papermill": {
     "duration": 1.140115,
     "end_time": "2022-09-12T01:59:44.584099",
     "exception": false,
     "start_time": "2022-09-12T01:59:43.443984",
     "status": "completed"
    },
    "tags": []
   },
   "outputs": [
    {
     "name": "stdout",
     "output_type": "stream",
     "text": [
      "[main ce27f9d] kaggle test commit\r\n",
      " 1 file changed, 1 insertion(+)\r\n",
      " create mode 100644 text.txt\r\n"
     ]
    }
   ],
   "source": [
    "!git commit -m \"kaggle test commit\""
   ]
  }
 ],
 "metadata": {
  "kernelspec": {
   "display_name": "Python 3",
   "language": "python",
   "name": "python3"
  },
  "language_info": {
   "codemirror_mode": {
    "name": "ipython",
    "version": 3
   },
   "file_extension": ".py",
   "mimetype": "text/x-python",
   "name": "python",
   "nbconvert_exporter": "python",
   "pygments_lexer": "ipython3",
   "version": "3.7.12"
  },
  "papermill": {
   "default_parameters": {},
   "duration": 18.688928,
   "end_time": "2022-09-12T01:59:45.310175",
   "environment_variables": {},
   "exception": null,
   "input_path": "__notebook__.ipynb",
   "output_path": "__notebook__.ipynb",
   "parameters": {},
   "start_time": "2022-09-12T01:59:26.621247",
   "version": "2.3.4"
  }
 },
 "nbformat": 4,
 "nbformat_minor": 5
}
